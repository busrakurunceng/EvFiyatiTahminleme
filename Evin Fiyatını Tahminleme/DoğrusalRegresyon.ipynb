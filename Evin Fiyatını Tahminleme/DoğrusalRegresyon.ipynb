{
 "cells": [
  {
   "cell_type": "markdown",
   "metadata": {
    "id": "Jq0L5yIBweLv"
   },
   "source": [
    "İhityaç Duyacağımız kütüphaneleri ekliyoruz\n",
    "\n",
    "pandas => csv, txt, excel ve benzeri dosyaları okuyup yüklemek ve veri işleme işlemlerini gerçekleştirmek için kullanacağız.\n",
    "\n",
    "numpy => Çok boyutlu diziler üzerinde matematiksel işlemleri hızlı ve kolay bir şekilde yapmak için kullanacağız.\n",
    "\n",
    "matplotlib => Grafik oluşturmak veri görselleştirmek için kullanacağız.\n",
    "\n",
    "seaborn => Grafik oluşturmak veri görselleştirmek için kullanacağız.\n",
    "\n",
    "Bu kütüphaneleri kullanarak verimizi yükleyip görselleştirmesini gerçekleştireceğiz.\n",
    "\n"
   ]
  },
  {
   "cell_type": "code",
   "execution_count": 5,
   "metadata": {
    "id": "Qj3CoH0EwQuK"
   },
   "outputs": [],
   "source": [
    "import pandas as pd\n",
    "import numpy as np\n",
    "import matplotlib.pyplot as plt\n",
    "import seaborn as sns"
   ]
  },
  {
   "cell_type": "markdown",
   "metadata": {
    "id": "3A0LuaZv3o8F"
   },
   "source": [
    "Örnek Veri setimiz : https://drive.google.com/file/d/1JqTYmtsCuy6fZMIiQ7ZnK0VoIInSNuy-/view?usp=sharing"
   ]
  },
  {
   "cell_type": "code",
   "execution_count": 6,
   "metadata": {
    "colab": {
     "base_uri": "https://localhost:8080/"
    },
    "executionInfo": {
     "elapsed": 1773,
     "status": "ok",
     "timestamp": 1696839051095,
     "user": {
      "displayName": "Murat UÇAR",
      "userId": "15135126161682441538"
     },
     "user_tz": -180
    },
    "id": "3PtRph923oY5",
    "outputId": "69afb68e-d26b-4b1c-9be1-2879f0b60965"
   },
   "outputs": [
    {
     "name": "stderr",
     "output_type": "stream",
     "text": [
      "'gdown' is not recognized as an internal or external command,\n",
      "operable program or batch file.\n"
     ]
    }
   ],
   "source": [
    "!gdown --id 1JqTYmtsCuy6fZMIiQ7ZnK0VoIInSNuy-"
   ]
  },
  {
   "cell_type": "markdown",
   "metadata": {
    "id": "cBwvLh9F4S8N"
   },
   "source": [
    "Pandas kütüphanesini kullanarak veri setimizi dosyadan okuyarak yüklüyoruz.\n"
   ]
  },
  {
   "cell_type": "code",
   "execution_count": 7,
   "metadata": {
    "id": "M6jCl4_L4SDr"
   },
   "outputs": [],
   "source": [
    "EvFiyatlari = pd.read_csv(\"evfiyatlari.csv\")"
   ]
  },
  {
   "cell_type": "code",
   "execution_count": 8,
   "metadata": {
    "colab": {
     "base_uri": "https://localhost:8080/",
     "height": 423
    },
    "executionInfo": {
     "elapsed": 304,
     "status": "ok",
     "timestamp": 1696839159993,
     "user": {
      "displayName": "Murat UÇAR",
      "userId": "15135126161682441538"
     },
     "user_tz": -180
    },
    "id": "XSy1wi9zfrD2",
    "outputId": "b98dd9a4-60c2-4050-8221-075babd1f6f9"
   },
   "outputs": [
    {
     "data": {
      "text/html": [
       "<div>\n",
       "<style scoped>\n",
       "    .dataframe tbody tr th:only-of-type {\n",
       "        vertical-align: middle;\n",
       "    }\n",
       "\n",
       "    .dataframe tbody tr th {\n",
       "        vertical-align: top;\n",
       "    }\n",
       "\n",
       "    .dataframe thead th {\n",
       "        text-align: right;\n",
       "    }\n",
       "</style>\n",
       "<table border=\"1\" class=\"dataframe\">\n",
       "  <thead>\n",
       "    <tr style=\"text-align: right;\">\n",
       "      <th></th>\n",
       "      <th>MetreKare</th>\n",
       "      <th>YatakOdasi</th>\n",
       "      <th>Banyo</th>\n",
       "      <th>Fiyat</th>\n",
       "    </tr>\n",
       "  </thead>\n",
       "  <tbody>\n",
       "    <tr>\n",
       "      <th>0</th>\n",
       "      <td>1790</td>\n",
       "      <td>2</td>\n",
       "      <td>2</td>\n",
       "      <td>114300</td>\n",
       "    </tr>\n",
       "    <tr>\n",
       "      <th>1</th>\n",
       "      <td>2030</td>\n",
       "      <td>4</td>\n",
       "      <td>2</td>\n",
       "      <td>114200</td>\n",
       "    </tr>\n",
       "    <tr>\n",
       "      <th>2</th>\n",
       "      <td>1740</td>\n",
       "      <td>3</td>\n",
       "      <td>2</td>\n",
       "      <td>114800</td>\n",
       "    </tr>\n",
       "    <tr>\n",
       "      <th>3</th>\n",
       "      <td>1980</td>\n",
       "      <td>3</td>\n",
       "      <td>2</td>\n",
       "      <td>94700</td>\n",
       "    </tr>\n",
       "    <tr>\n",
       "      <th>4</th>\n",
       "      <td>2130</td>\n",
       "      <td>3</td>\n",
       "      <td>3</td>\n",
       "      <td>119800</td>\n",
       "    </tr>\n",
       "    <tr>\n",
       "      <th>...</th>\n",
       "      <td>...</td>\n",
       "      <td>...</td>\n",
       "      <td>...</td>\n",
       "      <td>...</td>\n",
       "    </tr>\n",
       "    <tr>\n",
       "      <th>123</th>\n",
       "      <td>1900</td>\n",
       "      <td>3</td>\n",
       "      <td>3</td>\n",
       "      <td>119700</td>\n",
       "    </tr>\n",
       "    <tr>\n",
       "      <th>124</th>\n",
       "      <td>2160</td>\n",
       "      <td>4</td>\n",
       "      <td>3</td>\n",
       "      <td>147900</td>\n",
       "    </tr>\n",
       "    <tr>\n",
       "      <th>125</th>\n",
       "      <td>2070</td>\n",
       "      <td>2</td>\n",
       "      <td>2</td>\n",
       "      <td>113500</td>\n",
       "    </tr>\n",
       "    <tr>\n",
       "      <th>126</th>\n",
       "      <td>2020</td>\n",
       "      <td>3</td>\n",
       "      <td>3</td>\n",
       "      <td>149900</td>\n",
       "    </tr>\n",
       "    <tr>\n",
       "      <th>127</th>\n",
       "      <td>2250</td>\n",
       "      <td>3</td>\n",
       "      <td>3</td>\n",
       "      <td>124600</td>\n",
       "    </tr>\n",
       "  </tbody>\n",
       "</table>\n",
       "<p>128 rows × 4 columns</p>\n",
       "</div>"
      ],
      "text/plain": [
       "     MetreKare  YatakOdasi  Banyo   Fiyat\n",
       "0         1790           2      2  114300\n",
       "1         2030           4      2  114200\n",
       "2         1740           3      2  114800\n",
       "3         1980           3      2   94700\n",
       "4         2130           3      3  119800\n",
       "..         ...         ...    ...     ...\n",
       "123       1900           3      3  119700\n",
       "124       2160           4      3  147900\n",
       "125       2070           2      2  113500\n",
       "126       2020           3      3  149900\n",
       "127       2250           3      3  124600\n",
       "\n",
       "[128 rows x 4 columns]"
      ]
     },
     "execution_count": 8,
     "metadata": {},
     "output_type": "execute_result"
    }
   ],
   "source": [
    "EvFiyatlari"
   ]
  },
  {
   "cell_type": "markdown",
   "metadata": {
    "id": "NO2nmi5w576P"
   },
   "source": [
    "Yüklediğimiz veri seti ile ilgili info metodunu kullanarak bilgi alabiliriz."
   ]
  },
  {
   "cell_type": "code",
   "execution_count": 9,
   "metadata": {
    "colab": {
     "base_uri": "https://localhost:8080/"
    },
    "executionInfo": {
     "elapsed": 297,
     "status": "ok",
     "timestamp": 1696839190315,
     "user": {
      "displayName": "Murat UÇAR",
      "userId": "15135126161682441538"
     },
     "user_tz": -180
    },
    "id": "mEGkkI-B5xGg",
    "outputId": "bd56760f-4611-42c5-d57c-f9c43f0a67b1"
   },
   "outputs": [
    {
     "name": "stdout",
     "output_type": "stream",
     "text": [
      "<class 'pandas.core.frame.DataFrame'>\n",
      "RangeIndex: 128 entries, 0 to 127\n",
      "Data columns (total 4 columns):\n",
      " #   Column      Non-Null Count  Dtype\n",
      "---  ------      --------------  -----\n",
      " 0   MetreKare   128 non-null    int64\n",
      " 1   YatakOdasi  128 non-null    int64\n",
      " 2   Banyo       128 non-null    int64\n",
      " 3   Fiyat       128 non-null    int64\n",
      "dtypes: int64(4)\n",
      "memory usage: 4.1 KB\n"
     ]
    }
   ],
   "source": [
    "EvFiyatlari.info()"
   ]
  },
  {
   "cell_type": "code",
   "execution_count": 10,
   "metadata": {
    "colab": {
     "base_uri": "https://localhost:8080/"
    },
    "executionInfo": {
     "elapsed": 298,
     "status": "ok",
     "timestamp": 1696839235612,
     "user": {
      "displayName": "Murat UÇAR",
      "userId": "15135126161682441538"
     },
     "user_tz": -180
    },
    "id": "z-LwmdnuTO4w",
    "outputId": "b32b9a4b-214b-46c9-ba5f-c4dbfbd597c5"
   },
   "outputs": [
    {
     "name": "stdout",
     "output_type": "stream",
     "text": [
      "(128, 4)\n"
     ]
    }
   ],
   "source": [
    "print(EvFiyatlari.shape)"
   ]
  },
  {
   "cell_type": "markdown",
   "metadata": {
    "id": "pAEd00JM6D6d"
   },
   "source": [
    "head metodu ile veri setinde yer alan ilk kayıtları inceliyebiliriz."
   ]
  },
  {
   "cell_type": "code",
   "execution_count": 11,
   "metadata": {
    "colab": {
     "base_uri": "https://localhost:8080/",
     "height": 206
    },
    "executionInfo": {
     "elapsed": 313,
     "status": "ok",
     "timestamp": 1696839246449,
     "user": {
      "displayName": "Murat UÇAR",
      "userId": "15135126161682441538"
     },
     "user_tz": -180
    },
    "id": "7b8kyqqO6FjH",
    "outputId": "280d431e-1644-4958-e462-cbb561f22511"
   },
   "outputs": [
    {
     "data": {
      "text/html": [
       "<div>\n",
       "<style scoped>\n",
       "    .dataframe tbody tr th:only-of-type {\n",
       "        vertical-align: middle;\n",
       "    }\n",
       "\n",
       "    .dataframe tbody tr th {\n",
       "        vertical-align: top;\n",
       "    }\n",
       "\n",
       "    .dataframe thead th {\n",
       "        text-align: right;\n",
       "    }\n",
       "</style>\n",
       "<table border=\"1\" class=\"dataframe\">\n",
       "  <thead>\n",
       "    <tr style=\"text-align: right;\">\n",
       "      <th></th>\n",
       "      <th>MetreKare</th>\n",
       "      <th>YatakOdasi</th>\n",
       "      <th>Banyo</th>\n",
       "      <th>Fiyat</th>\n",
       "    </tr>\n",
       "  </thead>\n",
       "  <tbody>\n",
       "    <tr>\n",
       "      <th>0</th>\n",
       "      <td>1790</td>\n",
       "      <td>2</td>\n",
       "      <td>2</td>\n",
       "      <td>114300</td>\n",
       "    </tr>\n",
       "    <tr>\n",
       "      <th>1</th>\n",
       "      <td>2030</td>\n",
       "      <td>4</td>\n",
       "      <td>2</td>\n",
       "      <td>114200</td>\n",
       "    </tr>\n",
       "    <tr>\n",
       "      <th>2</th>\n",
       "      <td>1740</td>\n",
       "      <td>3</td>\n",
       "      <td>2</td>\n",
       "      <td>114800</td>\n",
       "    </tr>\n",
       "    <tr>\n",
       "      <th>3</th>\n",
       "      <td>1980</td>\n",
       "      <td>3</td>\n",
       "      <td>2</td>\n",
       "      <td>94700</td>\n",
       "    </tr>\n",
       "    <tr>\n",
       "      <th>4</th>\n",
       "      <td>2130</td>\n",
       "      <td>3</td>\n",
       "      <td>3</td>\n",
       "      <td>119800</td>\n",
       "    </tr>\n",
       "  </tbody>\n",
       "</table>\n",
       "</div>"
      ],
      "text/plain": [
       "   MetreKare  YatakOdasi  Banyo   Fiyat\n",
       "0       1790           2      2  114300\n",
       "1       2030           4      2  114200\n",
       "2       1740           3      2  114800\n",
       "3       1980           3      2   94700\n",
       "4       2130           3      3  119800"
      ]
     },
     "execution_count": 11,
     "metadata": {},
     "output_type": "execute_result"
    }
   ],
   "source": [
    "EvFiyatlari.head()"
   ]
  },
  {
   "cell_type": "markdown",
   "metadata": {
    "id": "BJLGBjDu7aoE"
   },
   "source": [
    "Seaborn kütüphanesinin pairplot metodunu kullanarak veri dağılımlarını incelemek için hızlı bir şekilde veriyi görselleştirebiliriz.\n",
    "\n",
    "pairplot(), tüm veri çerçevesi boyunca, sayısal sütunlar için çift yönlü ilişkiler çizer.\n"
   ]
  },
  {
   "cell_type": "code",
   "execution_count": 24,
   "metadata": {
    "colab": {
     "base_uri": "https://localhost:8080/",
     "height": 1000
    },
    "executionInfo": {
     "elapsed": 6060,
     "status": "ok",
     "timestamp": 1696839302138,
     "user": {
      "displayName": "Murat UÇAR",
      "userId": "15135126161682441538"
     },
     "user_tz": -180
    },
    "id": "LApoY0-X7aMG",
    "outputId": "02db6571-d567-423b-ae8a-311282c3ce50"
   },
   "outputs": [
    {
     "data": {
      "image/png": "[encoded data removed]",
      "text/plain": [
       "<Figure size 720x720 with 20 Axes>"
      ]
     },
     "metadata": {
      "needs_background": "light"
     },
     "output_type": "display_data"
    }
   ],
   "source": [
    "sns.pairplot(EvFiyatlari);"
   ]
  },
  {
   "cell_type": "markdown",
   "metadata": {
    "id": "E5E6nPPU88o1"
   },
   "source": [
    "Makine öğrenmesi modelimizi geliştirmek için ilk adımımız bağımlı ve bağımsız değişkenlerimizi belirlemektir.Örneğimizde Ev fiyatlarını tahmin etmeye çalışacağımızdan bağımlı değişkenimiz fiyat alanı olacaktır. Bu alan dışındaki sütunlarımız bağımsız değişkenlerimiz olacaktır."
   ]
  },
  {
   "cell_type": "code",
   "execution_count": 13,
   "metadata": {
    "id": "nSDwVF3h9WuU"
   },
   "outputs": [],
   "source": [
    "X = EvFiyatlari[[\"MetreKare\",\"YatakOdasi\",\"Banyo\"]]\n",
    "y = EvFiyatlari[[\"Fiyat\"]]"
   ]
  },
  {
   "cell_type": "markdown",
   "metadata": {
    "id": "TqnSkZD1_EzI"
   },
   "source": [
    "sklearn kütüphanesinden kullanmak istediğimiz Makine öğrenmesi modelini import edelim.\n",
    "\n",
    "Çalışmamızda kullanacağımız LinearRegression modeli sklearn.linear_model içerisinde bulunmaktadır.\n",
    "\n",
    "Bu modeli import ederek kendi modelimizi oluşturalım."
   ]
  },
  {
   "cell_type": "code",
   "execution_count": 14,
   "metadata": {
    "id": "PT121Vmphlhf"
   },
   "outputs": [],
   "source": [
    "from sklearn.linear_model import LinearRegression\n",
    "model = LinearRegression()"
   ]
  },
  {
   "cell_type": "markdown",
   "metadata": {
    "id": "cIwjCCWm_txx"
   },
   "source": [
    "Oluşturduğumuz modelin öğrenme işlemini gerçekleştirmek için Öğrenme için kullanacağı bağımlı ve bağımsız değişkenleri fit metoduna göndererek gerçekleştirebiliriz."
   ]
  },
  {
   "cell_type": "code",
   "execution_count": 15,
   "metadata": {
    "colab": {
     "base_uri": "https://localhost:8080/",
     "height": 75
    },
    "executionInfo": {
     "elapsed": 331,
     "status": "ok",
     "timestamp": 1696839719675,
     "user": {
      "displayName": "Murat UÇAR",
      "userId": "15135126161682441538"
     },
     "user_tz": -180
    },
    "id": "SfFORaH5hlaW",
    "outputId": "29e232ea-9107-4765-83de-0a1ca7886da8"
   },
   "outputs": [
    {
     "data": {
      "text/plain": [
       "LinearRegression()"
      ]
     },
     "execution_count": 15,
     "metadata": {},
     "output_type": "execute_result"
    }
   ],
   "source": [
    "model.fit(X,y)"
   ]
  },
  {
   "cell_type": "markdown",
   "metadata": {
    "id": "t6jkZn--ACe6"
   },
   "source": [
    "modelimizin doğrusal denklemini görmek için coef_ ve intercept_ özelliklerine bakabiliriz."
   ]
  },
  {
   "cell_type": "code",
   "execution_count": 16,
   "metadata": {
    "colab": {
     "base_uri": "https://localhost:8080/"
    },
    "executionInfo": {
     "elapsed": 299,
     "status": "ok",
     "timestamp": 1696839776327,
     "user": {
      "displayName": "Murat UÇAR",
      "userId": "15135126161682441538"
     },
     "user_tz": -180
    },
    "id": "HlapG0FBhlKn",
    "outputId": "958cdb3a-80a4-4902-84d4-0b013fa903f4"
   },
   "outputs": [
    {
     "name": "stdout",
     "output_type": "stream",
     "text": [
      "[[   35.64264904 10459.92594198 13546.13433454]]\n",
      "[-5640.8332697]\n"
     ]
    }
   ],
   "source": [
    "print(model.coef_)\n",
    "print(model.intercept_)"
   ]
  },
  {
   "cell_type": "markdown",
   "metadata": {
    "id": "BGXKfDE-ARDm"
   },
   "source": [
    "Modelimizin ev fiyatı tahmin etmek için kullanacağı formül\n",
    "\n",
    "fiyat = (Metrekare * 35.64264904) + (YatakOdasi * 10459.92594198) + (Banyo * 13546.13433454) + (-5640.8332697)"
   ]
  },
  {
   "cell_type": "markdown",
   "metadata": {
    "id": "1pyKw0YbA0V6"
   },
   "source": [
    "modelimize tahmin yaptırmak için kullanabileceğimiz metod predict metodudur."
   ]
  },
  {
   "cell_type": "code",
   "execution_count": 17,
   "metadata": {
    "colab": {
     "base_uri": "https://localhost:8080/"
    },
    "executionInfo": {
     "elapsed": 298,
     "status": "ok",
     "timestamp": 1696840449695,
     "user": {
      "displayName": "Murat UÇAR",
      "userId": "15135126161682441538"
     },
     "user_tz": -180
    },
    "id": "hm5-trAVivxf",
    "outputId": "e64e3415-18d3-4de0-b6ac-874590e1156c"
   },
   "outputs": [
    {
     "name": "stdout",
     "output_type": "stream",
     "text": [
      "Modelin Tahmini :  [[64467.80198935]]\n",
      "Hesaplanan Fiyat :  64467.8019888\n"
     ]
    },
    {
     "name": "stderr",
     "output_type": "stream",
     "text": [
      "C:\\Users\\busra\\anaconda3\\lib\\site-packages\\sklearn\\base.py:450: UserWarning: X does not have valid feature names, but LinearRegression was fitted with feature names\n",
      "  warnings.warn(\n"
     ]
    }
   ],
   "source": [
    "modelTahmin =  model.predict([[1000,2,1]])\n",
    "\n",
    "\n",
    "hesaplananFiyat = (1000 * 35.64264904 ) + (2 *  10459.92594198) + (1 * 13546.13433454 ) -5640.8332697\n",
    "print(\"Modelin Tahmini : \", modelTahmin)\n",
    "print(\"Hesaplanan Fiyat : \", hesaplananFiyat)\n",
    "#İki hesaplama arasında çok düşük farkın nedeni modelimizin katsayıları çok daha yüksek hassasiyet ile tutmasından kaynaklanır."
   ]
  },
  {
   "cell_type": "markdown",
   "metadata": {
    "id": "lAisxtpcBduy"
   },
   "source": [
    "Modelimizin başarısını test etmek için bütün test verilerimiz için birer tahmin gerçekleştirerek bu verilerin gerçek değerleri ile tahmin edilen değerlerini karşılaştırmamız gerekmektedir.\n",
    "\n",
    "Bunun için predict metoduna X değişkeninde yer alan tüm verilerimi gönderebiliriz."
   ]
  },
  {
   "cell_type": "code",
   "execution_count": 18,
   "metadata": {
    "id": "Ypkd4Eee46-f"
   },
   "outputs": [],
   "source": [
    "y_head = model.predict(X)"
   ]
  },
  {
   "cell_type": "markdown",
   "metadata": {
    "id": "_7obmmgFGBjM"
   },
   "source": [
    "Tahmin sonuçlarını ve gerçek değerleri daha rahat inceleyebilmek için yanyana yanyana yer alacağı bir formata getirebiliriz."
   ]
  },
  {
   "cell_type": "code",
   "execution_count": 19,
   "metadata": {
    "colab": {
     "base_uri": "https://localhost:8080/",
     "height": 206
    },
    "executionInfo": {
     "elapsed": 538,
     "status": "ok",
     "timestamp": 1696840622811,
     "user": {
      "displayName": "Murat UÇAR",
      "userId": "15135126161682441538"
     },
     "user_tz": -180
    },
    "id": "AKQkhP9okzOx",
    "outputId": "37842c5a-c212-4f5d-c57d-2c3e5073a2e2"
   },
   "outputs": [
    {
     "data": {
      "text/html": [
       "<div>\n",
       "<style scoped>\n",
       "    .dataframe tbody tr th:only-of-type {\n",
       "        vertical-align: middle;\n",
       "    }\n",
       "\n",
       "    .dataframe tbody tr th {\n",
       "        vertical-align: top;\n",
       "    }\n",
       "\n",
       "    .dataframe thead th {\n",
       "        text-align: right;\n",
       "    }\n",
       "</style>\n",
       "<table border=\"1\" class=\"dataframe\">\n",
       "  <thead>\n",
       "    <tr style=\"text-align: right;\">\n",
       "      <th></th>\n",
       "      <th>Gerçek Değerler</th>\n",
       "      <th>Tahminler</th>\n",
       "    </tr>\n",
       "  </thead>\n",
       "  <tbody>\n",
       "    <tr>\n",
       "      <th>0</th>\n",
       "      <td>114300</td>\n",
       "      <td>106171.629066</td>\n",
       "    </tr>\n",
       "    <tr>\n",
       "      <th>1</th>\n",
       "      <td>114200</td>\n",
       "      <td>135645.716720</td>\n",
       "    </tr>\n",
       "    <tr>\n",
       "      <th>2</th>\n",
       "      <td>114800</td>\n",
       "      <td>114849.422556</td>\n",
       "    </tr>\n",
       "    <tr>\n",
       "      <th>3</th>\n",
       "      <td>94700</td>\n",
       "      <td>123403.658326</td>\n",
       "    </tr>\n",
       "    <tr>\n",
       "      <th>4</th>\n",
       "      <td>119800</td>\n",
       "      <td>142296.190016</td>\n",
       "    </tr>\n",
       "  </tbody>\n",
       "</table>\n",
       "</div>"
      ],
      "text/plain": [
       "   Gerçek Değerler      Tahminler\n",
       "0           114300  106171.629066\n",
       "1           114200  135645.716720\n",
       "2           114800  114849.422556\n",
       "3            94700  123403.658326\n",
       "4           119800  142296.190016"
      ]
     },
     "execution_count": 19,
     "metadata": {},
     "output_type": "execute_result"
    }
   ],
   "source": [
    "tahmin_ve_sonuclar = pd.DataFrame({\"Gerçek Değerler\" : y.values.reshape(-1,),\n",
    "                                   \"Tahminler\" : y_head.reshape(-1,)})\n",
    "tahmin_ve_sonuclar.head()"
   ]
  },
  {
   "cell_type": "markdown",
   "metadata": {
    "id": "AqsvcqUtCJYj"
   },
   "source": [
    "Yaptığımız tahminler ile gerçek fiyatların durumunu görmek için bir grafik çizdirebiliriz.\n"
   ]
  },
  {
   "cell_type": "code",
   "execution_count": 25,
   "metadata": {
    "colab": {
     "base_uri": "https://localhost:8080/",
     "height": 448
    },
    "executionInfo": {
     "elapsed": 1272,
     "status": "ok",
     "timestamp": 1696840635493,
     "user": {
      "displayName": "Murat UÇAR",
      "userId": "15135126161682441538"
     },
     "user_tz": -180
    },
    "id": "XEwP7UOrlS6w",
    "outputId": "2e966f94-a279-46af-ed2a-a5be9185b177"
   },
   "outputs": [
    {
     "data": {
      "image/png": "[encoded data removed]",
      "text/plain": [
       "<Figure size 432x288 with 1 Axes>"
      ]
     },
     "metadata": {
      "needs_background": "light"
     },
     "output_type": "display_data"
    }
   ],
   "source": [
    "sns.lineplot(data=tahmin_ve_sonuclar,markers=True);"
   ]
  },
  {
   "cell_type": "markdown",
   "metadata": {
    "id": "7VYRwd-DHQJQ"
   },
   "source": [
    "Sonuçları sadece görsel olarak görmek çoğu zaman yeterli değildir. Yaptığımız tahminlerin hata değerlerini hesaplamak gereklidir.\n",
    "\n",
    "Modellerimizin başarılarını ölçmek için ihtiyaç duyacağımız metodlar sklearn kütüphanesinde metrics modülü altında yer almaktadır.\n",
    "\n",
    "Projemize bu metodları ekleyerek başarı hesaplamalarımız gerçekleştirebiliriz."
   ]
  },
  {
   "cell_type": "code",
   "execution_count": 21,
   "metadata": {
    "colab": {
     "base_uri": "https://localhost:8080/"
    },
    "executionInfo": {
     "elapsed": 4,
     "status": "ok",
     "timestamp": 1696840715609,
     "user": {
      "displayName": "Murat UÇAR",
      "userId": "15135126161682441538"
     },
     "user_tz": -180
    },
    "id": "Y-NlJPR6lgnT",
    "outputId": "3b25ea2f-3256-4710-c6d3-96ad91011b91"
   },
   "outputs": [
    {
     "name": "stdout",
     "output_type": "stream",
     "text": [
      "Ortalama Kare Hatası : 401439264.25173926\n"
     ]
    }
   ],
   "source": [
    "from sklearn import metrics\n",
    "HataDegeri = metrics.mean_squared_error(y.values.reshape(-1,), y_head.reshape(-1,))\n",
    "print(\"Ortalama Kare Hatası :\" , HataDegeri)"
   ]
  },
  {
   "cell_type": "code",
   "execution_count": 22,
   "metadata": {
    "colab": {
     "base_uri": "https://localhost:8080/"
    },
    "executionInfo": {
     "elapsed": 332,
     "status": "ok",
     "timestamp": 1696840950027,
     "user": {
      "displayName": "Murat UÇAR",
      "userId": "15135126161682441538"
     },
     "user_tz": -180
    },
    "id": "oYHV4kJll2m0",
    "outputId": "20cf573b-c069-40f0-8e5c-a4b1e0171d11"
   },
   "outputs": [
    {
     "name": "stdout",
     "output_type": "stream",
     "text": [
      "[[1 2 3]\n",
      " [4 5 6]\n",
      " [7 8 9]]\n"
     ]
    }
   ],
   "source": [
    "x = np.array([1,2,3,4,5,6,7,8,9])\n",
    "x = x.reshape(-1,3)\n",
    "print(x)"
   ]
  },
  {
   "cell_type": "code",
   "execution_count": 26,
   "metadata": {
    "colab": {
     "base_uri": "https://localhost:8080/"
    },
    "executionInfo": {
     "elapsed": 298,
     "status": "ok",
     "timestamp": 1696840804745,
     "user": {
      "displayName": "Murat UÇAR",
      "userId": "15135126161682441538"
     },
     "user_tz": -180
    },
    "id": "C67cZbQ6l7NH",
    "outputId": "cbfcfd4c-0a40-44f1-9e4e-03074a07a957"
   },
   "outputs": [
    {
     "data": {
      "text/plain": [
       "(3, 3)"
      ]
     },
     "execution_count": 26,
     "metadata": {},
     "output_type": "execute_result"
    }
   ],
   "source": [
    "x.shape"
   ]
  },
  {
   "cell_type": "code",
   "execution_count": null,
   "metadata": {},
   "outputs": [],
   "source": []
  },
  {
   "cell_type": "code",
   "execution_count": 37,
   "metadata": {},
   "outputs": [],
   "source": [
    "from sklearn.model_selection import train_test_split\n",
    "\n",
    "# Veri setinizi bağımsız değişkenler (X) ve hedef değişken (y) olarak ayırın\n",
    "X = EvFiyatlari[['MetreKare', 'YatakOdasi', 'Banyo']]\n",
    "y = EvFiyatlari['Fiyat']\n",
    "\n",
    "# Veriyi eğitim ve test verilerine bölmek (örneğin, %80 eğitim, %20 test olarak)\n",
    "X_train, X_test, y_train, y_test = train_test_split(X, y, test_size=0.2, random_state=42)\n"
   ]
  },
  {
   "cell_type": "markdown",
   "metadata": {},
   "source": [
    "Burada, X_train ve y_train eğitim verilerini, X_test ve y_test ise test verilerini temsil eder."
   ]
  },
  {
   "cell_type": "code",
   "execution_count": 38,
   "metadata": {},
   "outputs": [
    {
     "data": {
      "text/plain": [
       "LinearRegression()"
      ]
     },
     "execution_count": 38,
     "metadata": {},
     "output_type": "execute_result"
    }
   ],
   "source": [
    "from sklearn.linear_model import LinearRegression\n",
    "\n",
    "# Lineer regresyon modelini oluşturun\n",
    "model = LinearRegression()\n",
    "\n",
    "# Modeli eğitin\n",
    "model.fit(X_train, y_train)\n"
   ]
  },
  {
   "cell_type": "code",
   "execution_count": 39,
   "metadata": {},
   "outputs": [
    {
     "name": "stdout",
     "output_type": "stream",
     "text": [
      "R^2 Skoru: 0.4568195777548879\n"
     ]
    }
   ],
   "source": [
    "# Modeli test verileri ile değerlendirin\n",
    "y_pred = model.predict(X_test)\n",
    "\n",
    "# Başarıyı değerlendirme ölçütlerini kullanarak değerlendirin (örneğin, R^2 skoru)\n",
    "from sklearn.metrics import r2_score\n",
    "r2 = r2_score(y_test, y_pred)\n",
    "print(f'R^2 Skoru: {r2}')\n"
   ]
  },
  {
   "cell_type": "markdown",
   "metadata": {},
   "source": [
    "R^2 skoru, modelinizin ne kadar iyi tahmin yaptığını değerlendiren bir ölçüttür. 1'e ne kadar yakınsa, model o kadar iyi tahminler yapıyor demektir.\n",
    "\n",
    "0.45 sonucuna baktığımızda modelimizin çok da iyi sonuç vermediğini görüyoruz."
   ]
  },
  {
   "cell_type": "markdown",
   "metadata": {},
   "source": [
    "Bu oranı 1e daha da yaklaştırmak için bir yöntem daha denemek istiyorum.\n",
    "\n",
    "Veri Setini Karıştırma \n",
    "Veri setinizi ayırmadan önce verileri karıştırmanız genellikle iyidir. Bu, verilerin sıralı veya gruplanmış olma durumlarını önler ve modelinizin daha iyi genelleme yapmasına yardımcı olabilir. Belki bu yöntem modelimizin verimliliğini arttırır."
   ]
  },
  {
   "cell_type": "code",
   "execution_count": 40,
   "metadata": {},
   "outputs": [
    {
     "name": "stdout",
     "output_type": "stream",
     "text": [
      "     MetreKare  YatakOdasi  Banyo   Fiyat\n",
      "55        1720           2      2  125700\n",
      "40        1560           2      2  106600\n",
      "19        1920           3      3  167200\n",
      "31        1930           2      2  112300\n",
      "98        2060           3      2  145500\n",
      "..         ...         ...    ...     ...\n",
      "106       2130           3      2  108500\n",
      "14        2590           4      3  176800\n",
      "92        2110           3      2  142600\n",
      "51        1860           2      2   91100\n",
      "102       2410           3      3  136800\n",
      "\n",
      "[128 rows x 4 columns]\n"
     ]
    }
   ],
   "source": [
    "# Veri setini karıştırın\n",
    "EvFiyatlari_karistirilmis = EvFiyatlari.sample(frac=1, random_state=42)\n",
    "\n",
    "# Karıştırılmış veriyi görüntüleyin\n",
    "print(EvFiyatlari_karistirilmis)"
   ]
  },
  {
   "cell_type": "markdown",
   "metadata": {},
   "source": [
    "Veri setini karıştırdım. şimdi geri kalan adımları geröekleştireceğim ve veri setini train ve test olmak üzere ikiye böleceğim."
   ]
  },
  {
   "cell_type": "code",
   "execution_count": 41,
   "metadata": {},
   "outputs": [],
   "source": [
    "from sklearn.model_selection import train_test_split\n",
    "\n",
    "# Veri setinizi bağımsız değişkenler (X) ve hedef değişken (y) olarak ayırın\n",
    "X = EvFiyatlari_karistirilmis[['MetreKare', 'YatakOdasi', 'Banyo']]\n",
    "y = EvFiyatlari_karistirilmis['Fiyat']\n",
    "\n",
    "# Veriyi eğitim ve test verilerine bölmek (örneğin, %80 eğitim, %20 test olarak)\n",
    "X_train2, X_test2, y_train2, y_test2 = train_test_split(X, y, test_size=0.2, random_state=42)\n"
   ]
  },
  {
   "cell_type": "code",
   "execution_count": 42,
   "metadata": {},
   "outputs": [
    {
     "data": {
      "text/plain": [
       "LinearRegression()"
      ]
     },
     "execution_count": 42,
     "metadata": {},
     "output_type": "execute_result"
    }
   ],
   "source": [
    "from sklearn.linear_model import LinearRegression\n",
    "\n",
    "# Lineer regresyon modelini oluşturun\n",
    "model = LinearRegression()\n",
    "\n",
    "# Modeli eğitin\n",
    "model.fit(X_train2, y_train2)\n"
   ]
  },
  {
   "cell_type": "code",
   "execution_count": 43,
   "metadata": {},
   "outputs": [
    {
     "name": "stdout",
     "output_type": "stream",
     "text": [
      "R^2 Skoru: 0.4395502515554778\n"
     ]
    }
   ],
   "source": [
    "# Modeli test verileri ile değerlendirin\n",
    "y_pred2 = model.predict(X_test2)\n",
    "\n",
    "# Başarıyı değerlendirme ölçütlerini kullanarak değerlendirin (örneğin, R^2 skoru)\n",
    "from sklearn.metrics import r2_score\n",
    "r2 = r2_score(y_test2, y_pred2)\n",
    "print(f'R^2 Skoru: {r2}')\n"
   ]
  },
  {
   "cell_type": "code",
   "execution_count": null,
   "metadata": {},
   "outputs": [],
   "source": []
  }
 ],
 "metadata": {
  "colab": {
   "provenance": []
  },
  "kernelspec": {
   "display_name": "Python 3 (ipykernel)",
   "language": "python",
   "name": "python3"
  },
  "language_info": {
   "codemirror_mode": {
    "name": "ipython",
    "version": 3
   },
   "file_extension": ".py",
   "mimetype": "text/x-python",
   "name": "python",
   "nbconvert_exporter": "python",
   "pygments_lexer": "ipython3",
   "version": "3.9.12"
  }
 },
 "nbformat": 4,
 "nbformat_minor": 1
}
